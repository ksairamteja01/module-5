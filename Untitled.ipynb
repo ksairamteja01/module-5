{
  "nbformat": 4,
  "nbformat_minor": 0,
  "metadata": {
    "colab": {
      "name": "Untitled",
      "provenance": []
    },
    "kernelspec": {
      "name": "python3",
      "display_name": "Python 3"
    }
  },
  "cells": [
    {
      "cell_type": "code",
      "metadata": {
        "id": "hbn3Ae-gub5A",
        "colab_type": "code",
        "colab": {
          "base_uri": "https://localhost:8080/",
          "height": 34
        },
        "outputId": "378ebec2-9dbc-4363-b8b4-59cf22018049"
      },
      "source": [
        "t1=(1,2,3) \n",
        "t1"
      ],
      "execution_count": null,
      "outputs": [
        {
          "output_type": "execute_result",
          "data": {
            "text/plain": [
              "(1, 2, 3)"
            ]
          },
          "metadata": {
            "tags": []
          },
          "execution_count": 10
        }
      ]
    },
    {
      "cell_type": "code",
      "metadata": {
        "id": "sKsI8jRVu06a",
        "colab_type": "code",
        "colab": {
          "base_uri": "https://localhost:8080/",
          "height": 34
        },
        "outputId": "59028a39-3531-4be8-e80f-de9c7dd21bfa"
      },
      "source": [
        "t2=(1,2,3,\"hello\") \n",
        "t2"
      ],
      "execution_count": null,
      "outputs": [
        {
          "output_type": "execute_result",
          "data": {
            "text/plain": [
              "(1, 2, 3, 'hello')"
            ]
          },
          "metadata": {
            "tags": []
          },
          "execution_count": 8
        }
      ]
    },
    {
      "cell_type": "code",
      "metadata": {
        "id": "qSImswMJvR6f",
        "colab_type": "code",
        "colab": {
          "base_uri": "https://localhost:8080/",
          "height": 34
        },
        "outputId": "a928b4b5-f7d8-442b-c686-bd4d81dd0938"
      },
      "source": [
        "t=tuple('vamsi') \n",
        "print (t)"
      ],
      "execution_count": null,
      "outputs": [
        {
          "output_type": "stream",
          "text": [
            "('v', 'a', 'm', 's', 'i')\n"
          ],
          "name": "stdout"
        }
      ]
    },
    {
      "cell_type": "code",
      "metadata": {
        "id": "aDIhg84l8wlu",
        "colab_type": "code",
        "colab": {
          "base_uri": "https://localhost:8080/",
          "height": 34
        },
        "outputId": "9b20be5d-f54d-4f82-8a96-21c27ec1bc39"
      },
      "source": [
        "tuplex = (1,3,4,5,6,9,0,8) \n",
        "_slice = tuplex [:7]\n",
        "print(_slice)"
      ],
      "execution_count": null,
      "outputs": [
        {
          "output_type": "stream",
          "text": [
            "(1, 3, 4, 5, 6, 9, 0)\n"
          ],
          "name": "stdout"
        }
      ]
    },
    {
      "cell_type": "code",
      "metadata": {
        "id": "XK7iVesq9SfO",
        "colab_type": "code",
        "colab": {
          "base_uri": "https://localhost:8080/",
          "height": 51
        },
        "outputId": "4c6eaa4f-2484-440e-aa93-a5e325c789f0"
      },
      "source": [
        "tuplex = tuple (\"program\") \n",
        "print(tuplex) \n",
        "print(len(tuplex))"
      ],
      "execution_count": null,
      "outputs": [
        {
          "output_type": "stream",
          "text": [
            "('p', 'r', 'o', 'g', 'r', 'a', 'm')\n",
            "7\n"
          ],
          "name": "stdout"
        }
      ]
    },
    {
      "cell_type": "code",
      "metadata": {
        "id": "wQ940XR8904P",
        "colab_type": "code",
        "colab": {
          "base_uri": "https://localhost:8080/",
          "height": 34
        },
        "outputId": "346a5bec-3b7d-4c77-8ab0-0c9c49f7bdf2"
      },
      "source": [
        "tuplex = ((2, \"hi\"),(3, \"hello\")) \n",
        "print (dict((y, x) for x, y in tuplex))"
      ],
      "execution_count": null,
      "outputs": [
        {
          "output_type": "stream",
          "text": [
            "{'hi': 2, 'hello': 3}\n"
          ],
          "name": "stdout"
        }
      ]
    },
    {
      "cell_type": "code",
      "metadata": {
        "id": "yhY37DCx-6Gm",
        "colab_type": "code",
        "colab": {
          "base_uri": "https://localhost:8080/",
          "height": 34
        },
        "outputId": "b5ffd183-9664-46e0-d6ec-0526532eeac8"
      },
      "source": [
        "tuples = (1,2,3,4,5,6,55)\n",
        "reversedTuples = tuples[::-1]\n",
        "print (reversedTuples)"
      ],
      "execution_count": null,
      "outputs": [
        {
          "output_type": "stream",
          "text": [
            "(55, 6, 5, 4, 3, 2, 1)\n"
          ],
          "name": "stdout"
        }
      ]
    },
    {
      "cell_type": "code",
      "metadata": {
        "id": "B4HnZeDXEwgz",
        "colab_type": "code",
        "colab": {
          "base_uri": "https://localhost:8080/",
          "height": 54
        },
        "outputId": "bc5f86a5-e076-4e86-9020-163d4a68c0cc"
      },
      "source": [
        "l = [(\"hi\", 1), (\"hi\", 2), (\"hi\", 3), (\"hello\", 1), (\"hello\", 2), (\"hello\", 4)]\n",
        "d = {}\n",
        "for a, b in l:\n",
        "    d.setdefault(a, []).append(b) \n",
        "print (d)"
      ],
      "execution_count": null,
      "outputs": [
        {
          "output_type": "stream",
          "text": [
            "{'hi': [1, 2, 3], 'hello': [1, 2, 4]}\n"
          ],
          "name": "stdout"
        }
      ]
    },
    {
      "cell_type": "code",
      "metadata": {
        "id": "6Hv-U1NmHGwk",
        "colab_type": "code",
        "colab": {
          "base_uri": "https://localhost:8080/",
          "height": 34
        },
        "outputId": "7b914929-7fa0-46d8-9c76-948f8027eadb"
      },
      "source": [
        "def convert(list) :\n",
        "    return tuple (i for i in list) \n",
        "list = [22, 33,44,55,67,89]\n",
        "print (convert(list))"
      ],
      "execution_count": null,
      "outputs": [
        {
          "output_type": "stream",
          "text": [
            "(22, 33, 44, 55, 67, 89)\n"
          ],
          "name": "stdout"
        }
      ]
    }
  ]
}